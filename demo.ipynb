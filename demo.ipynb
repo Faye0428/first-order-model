{
  "nbformat": 4,
  "nbformat_minor": 0,
  "metadata": {
    "colab": {
      "name": "first-order-model-demo",
      "provenance": [],
      "include_colab_link": true
    },
    "kernelspec": {
      "name": "python3",
      "display_name": "Python 3"
    },
    "accelerator": "GPU"
  },
  "cells": [
    {
      "cell_type": "markdown",
      "metadata": {
        "id": "view-in-github",
        "colab_type": "text"
      },
      "source": [
        "<a href=\"https://colab.research.google.com/github/Faye0428/first-order-model/blob/master/demo.ipynb\" target=\"_parent\"><img src=\"https://colab.research.google.com/assets/colab-badge.svg\" alt=\"Open In Colab\"/></a>"
      ]
    },
    {
      "cell_type": "markdown",
      "metadata": {
        "id": "cdO_RxQZLahB"
      },
      "source": [
        "# Demo for paper \"First Order Motion Model for Image Animation\"\n",
        "To try the demo, press the 2 play buttons in order and scroll to the bottom. Note that it may take several minutes to load."
      ]
    },
    {
      "cell_type": "code",
      "source": [
        "國文 = int(input(\"請你輸入國文成績\"))\n",
        "英文 = int(input(\"請你輸入數學成績\"))\n",
        "數學 = int(input(\"請你輸入數學成績\"))\n",
        "print(\"你的總分為：\",國文 + 英文 + 數學)"
      ],
      "metadata": {
        "id": "3pu9wiMLKcsk",
        "outputId": "d15048b8-77a7-4ecd-e830-cb22094f865b",
        "colab": {
          "base_uri": "https://localhost:8080/"
        }
      },
      "execution_count": 7,
      "outputs": [
        {
          "output_type": "stream",
          "name": "stdout",
          "text": [
            "請你輸入國文成績99\n",
            "請你輸入數學成績99\n",
            "請你輸入數學成績99\n",
            "你的總分為： 297\n"
          ]
        }
      ]
    },
    {
      "cell_type": "code",
      "source": [
        "12+3"
      ],
      "metadata": {
        "id": "G7odEU5ZSUpC",
        "outputId": "b9d16dec-e4dd-4ad0-f0bb-4934efe3c971",
        "colab": {
          "base_uri": "https://localhost:8080/"
        }
      },
      "execution_count": 8,
      "outputs": [
        {
          "output_type": "execute_result",
          "data": {
            "text/plain": [
              "15"
            ]
          },
          "metadata": {},
          "execution_count": 8
        }
      ]
    },
    {
      "cell_type": "code",
      "source": [
        "12-3"
      ],
      "metadata": {
        "id": "1i9tBvfLSbzB",
        "outputId": "e8ec0565-0aa9-43b8-d1a6-10ea0244e81a",
        "colab": {
          "base_uri": "https://localhost:8080/"
        }
      },
      "execution_count": 9,
      "outputs": [
        {
          "output_type": "execute_result",
          "data": {
            "text/plain": [
              "9"
            ]
          },
          "metadata": {},
          "execution_count": 9
        }
      ]
    },
    {
      "cell_type": "code",
      "source": [
        "12*3"
      ],
      "metadata": {
        "id": "QaWhZyfOSeck",
        "outputId": "686ec57e-a803-4b87-919e-86f189eaef76",
        "colab": {
          "base_uri": "https://localhost:8080/"
        }
      },
      "execution_count": 10,
      "outputs": [
        {
          "output_type": "execute_result",
          "data": {
            "text/plain": [
              "36"
            ]
          },
          "metadata": {},
          "execution_count": 10
        }
      ]
    },
    {
      "cell_type": "code",
      "source": [
        "32/5"
      ],
      "metadata": {
        "id": "djY6qBNxSjLb",
        "outputId": "de6d7f5e-3805-4d9f-ebe5-30ca344ebfb9",
        "colab": {
          "base_uri": "https://localhost:8080/"
        }
      },
      "execution_count": 11,
      "outputs": [
        {
          "output_type": "execute_result",
          "data": {
            "text/plain": [
              "6.4"
            ]
          },
          "metadata": {},
          "execution_count": 11
        }
      ]
    },
    {
      "cell_type": "code",
      "source": [
        "32%5"
      ],
      "metadata": {
        "id": "UbuEd3uKSpA1",
        "outputId": "f03806ba-ae3f-47cb-c120-1e37e6a69564",
        "colab": {
          "base_uri": "https://localhost:8080/"
        }
      },
      "execution_count": 12,
      "outputs": [
        {
          "output_type": "execute_result",
          "data": {
            "text/plain": [
              "2"
            ]
          },
          "metadata": {},
          "execution_count": 12
        }
      ]
    },
    {
      "cell_type": "code",
      "source": [
        "32//5"
      ],
      "metadata": {
        "id": "z7XGk0zRStoO",
        "outputId": "2865f330-95b6-4c7f-c0ee-026141ba3d6e",
        "colab": {
          "base_uri": "https://localhost:8080/"
        }
      },
      "execution_count": 13,
      "outputs": [
        {
          "output_type": "execute_result",
          "data": {
            "text/plain": [
              "6"
            ]
          },
          "metadata": {},
          "execution_count": 13
        }
      ]
    },
    {
      "cell_type": "code",
      "source": [
        "7**2"
      ],
      "metadata": {
        "id": "oQhFdL9uSxNk",
        "outputId": "748733a4-78d7-4c4a-eebf-d2ef53f39bbd",
        "colab": {
          "base_uri": "https://localhost:8080/"
        }
      },
      "execution_count": 14,
      "outputs": [
        {
          "output_type": "execute_result",
          "data": {
            "text/plain": [
              "49"
            ]
          },
          "metadata": {},
          "execution_count": 14
        }
      ]
    },
    {
      "cell_type": "code",
      "source": [
        "上底 = int(input('請輸入梯形上底的長度'))\n",
        "下底 = int(input('請輸入梯形下底的長度'))\n",
        "高 = int(input('請輸入梯形的高度'))\n",
        "print(\"梯形面積為\",(上底 + 下底) * 高 / 2)"
      ],
      "metadata": {
        "id": "-XV8Os_MS3Jf",
        "outputId": "9bdc4c70-7155-4fdb-e285-8b94bbcb406c",
        "colab": {
          "base_uri": "https://localhost:8080/"
        }
      },
      "execution_count": 19,
      "outputs": [
        {
          "output_type": "stream",
          "name": "stdout",
          "text": [
            "請輸入梯形上底的長度3\n",
            "請輸入梯形下底的長度4\n",
            "請輸入梯形的高度3\n",
            "梯形面積為 10.5\n"
          ]
        }
      ]
    },
    {
      "cell_type": "code",
      "source": [
        "身高 = int(input('請輸入您的身高(cm)'))\n",
        "體重 = int(input('請輸入您的體重(kg)'))\n",
        "print(\"BMI值為\",體重/(身高/100)**2)"
      ],
      "metadata": {
        "id": "5xl5xDcRUrJz",
        "outputId": "2d81ebeb-bb77-42e0-adb1-797308864702",
        "colab": {
          "base_uri": "https://localhost:8080/"
        }
      },
      "execution_count": 20,
      "outputs": [
        {
          "output_type": "stream",
          "name": "stdout",
          "text": [
            "請輸入您的身高(cm)168\n",
            "請輸入您的體重(kg)55\n",
            "BMI值為 19.48696145124717\n"
          ]
        }
      ]
    }
  ]
}